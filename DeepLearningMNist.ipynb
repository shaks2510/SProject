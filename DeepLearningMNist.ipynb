{
  "nbformat": 4,
  "nbformat_minor": 0,
  "metadata": {
    "colab": {
      "provenance": [],
      "authorship_tag": "ABX9TyMHbVTPlarqR860iSqkPbN8",
      "include_colab_link": true
    },
    "kernelspec": {
      "name": "python3",
      "display_name": "Python 3"
    },
    "language_info": {
      "name": "python"
    }
  },
  "cells": [
    {
      "cell_type": "markdown",
      "metadata": {
        "id": "view-in-github",
        "colab_type": "text"
      },
      "source": [
        "<a href=\"https://colab.research.google.com/github/shaks2510/SProject/blob/main/DeepLearningMNist.ipynb\" target=\"_parent\"><img src=\"https://colab.research.google.com/assets/colab-badge.svg\" alt=\"Open In Colab\"/></a>"
      ]
    },
    {
      "cell_type": "code",
      "execution_count": 2,
      "metadata": {
        "colab": {
          "base_uri": "https://localhost:8080/"
        },
        "id": "uGy7FatJcc1i",
        "outputId": "7bb177cf-03a1-4196-8e54-9441a525ae38"
      },
      "outputs": [
        {
          "output_type": "stream",
          "name": "stdout",
          "text": [
            "2.12.0\n"
          ]
        }
      ],
      "source": [
        "import tensorflow as tf\n",
        "print(tf.__version__)"
      ]
    },
    {
      "cell_type": "code",
      "source": [
        "import numpy as np\n",
        "import pandas as pd\n",
        "from sklearn import metrics\n",
        "import matplotlib.pyplot as plt\n",
        "%matplotlib inline\n",
        "\n",
        "\n",
        "\n",
        "# Using Tensorflow Keras instead of the original Keras\n",
        "\n",
        "from tensorflow.keras.datasets import mnist\n",
        "from tensorflow.keras import Sequential\n",
        "from tensorflow.keras.layers import Dense\n",
        "\n",
        "from keras.callbacks import EarlyStopping\n",
        "from keras.layers import BatchNormalization\n",
        "\n",
        "\n"
      ],
      "metadata": {
        "id": "Dynrymh3c2nh"
      },
      "execution_count": 4,
      "outputs": []
    },
    {
      "cell_type": "code",
      "source": [
        "(xtrain,ytrain),(xtest,ytest)=mnist.load_data()"
      ],
      "metadata": {
        "colab": {
          "base_uri": "https://localhost:8080/"
        },
        "id": "v_-9BpN-dtBa",
        "outputId": "ad29c3c6-06cb-4e07-fc50-81209fbdd29c"
      },
      "execution_count": 5,
      "outputs": [
        {
          "output_type": "stream",
          "name": "stdout",
          "text": [
            "Downloading data from https://storage.googleapis.com/tensorflow/tf-keras-datasets/mnist.npz\n",
            "11490434/11490434 [==============================] - 0s 0us/step\n"
          ]
        }
      ]
    },
    {
      "cell_type": "code",
      "source": [
        "xtrain.shape"
      ],
      "metadata": {
        "colab": {
          "base_uri": "https://localhost:8080/"
        },
        "id": "AUnJF2IVfV22",
        "outputId": "14ed115b-eec3-49d8-8a10-1ee215d0006c"
      },
      "execution_count": 6,
      "outputs": [
        {
          "output_type": "execute_result",
          "data": {
            "text/plain": [
              "(60000, 28, 28)"
            ]
          },
          "metadata": {},
          "execution_count": 6
        }
      ]
    },
    {
      "cell_type": "code",
      "source": [
        "plt.imshow(xtrain[1,:,:],cmap='gray')"
      ],
      "metadata": {
        "colab": {
          "base_uri": "https://localhost:8080/",
          "height": 447
        },
        "id": "Xnx-SBtMfZt1",
        "outputId": "118a82ac-ebc7-4a35-8b00-a666b45e9b54"
      },
      "execution_count": 7,
      "outputs": [
        {
          "output_type": "execute_result",
          "data": {
            "text/plain": [
              "<matplotlib.image.AxesImage at 0x7f57073617e0>"
            ]
          },
          "metadata": {},
          "execution_count": 7
        },
        {
          "output_type": "display_data",
          "data": {
            "text/plain": [
              "<Figure size 640x480 with 1 Axes>"
            ],
            "image/png": "[encoded data removed]"
          },
          "metadata": {}
        }
      ]
    },
    {
      "cell_type": "code",
      "source": [
        "ytrain[1]"
      ],
      "metadata": {
        "colab": {
          "base_uri": "https://localhost:8080/"
        },
        "id": "BOVDawKNfd06",
        "outputId": "4525bc15-d6bb-4f15-f62e-33fa77b4bd8f"
      },
      "execution_count": 8,
      "outputs": [
        {
          "output_type": "execute_result",
          "data": {
            "text/plain": [
              "0"
            ]
          },
          "metadata": {},
          "execution_count": 8
        }
      ]
    },
    {
      "cell_type": "code",
      "source": [
        "plt.imshow(xtest[0,:,:],cmap='gray')"
      ],
      "metadata": {
        "colab": {
          "base_uri": "https://localhost:8080/",
          "height": 447
        },
        "id": "R-iCdeJdfqLQ",
        "outputId": "c1309821-c5a7-46d3-e99b-6abffa4eb584"
      },
      "execution_count": 9,
      "outputs": [
        {
          "output_type": "execute_result",
          "data": {
            "text/plain": [
              "<matplotlib.image.AxesImage at 0x7f5706561a50>"
            ]
          },
          "metadata": {},
          "execution_count": 9
        },
        {
          "output_type": "display_data",
          "data": {
            "text/plain": [
              "<Figure size 640x480 with 1 Axes>"
            ],
            "image/png": "[encoded data removed]"
          },
          "metadata": {}
        }
      ]
    },
    {
      "cell_type": "code",
      "source": [
        "ytrain[:50]"
      ],
      "metadata": {
        "colab": {
          "base_uri": "https://localhost:8080/"
        },
        "id": "rNv6heJfgwt9",
        "outputId": "d546dc59-93c6-4ad0-9ef5-aa7e07c1b9fa"
      },
      "execution_count": 10,
      "outputs": [
        {
          "output_type": "execute_result",
          "data": {
            "text/plain": [
              "array([5, 0, 4, 1, 9, 2, 1, 3, 1, 4, 3, 5, 3, 6, 1, 7, 2, 8, 6, 9, 4, 0,\n",
              "       9, 1, 1, 2, 4, 3, 2, 7, 3, 8, 6, 9, 0, 5, 6, 0, 7, 6, 1, 8, 7, 9,\n",
              "       3, 9, 8, 5, 9, 3], dtype=uint8)"
            ]
          },
          "metadata": {},
          "execution_count": 10
        }
      ]
    },
    {
      "cell_type": "code",
      "source": [
        "L=pd.DataFrame(ytrain)\n",
        "L[0].value_counts()"
      ],
      "metadata": {
        "colab": {
          "base_uri": "https://localhost:8080/"
        },
        "id": "MIS8ZH3kgy1R",
        "outputId": "c71c4dd0-7cd9-46bd-85cd-b1c31ea2d40b"
      },
      "execution_count": 11,
      "outputs": [
        {
          "output_type": "execute_result",
          "data": {
            "text/plain": [
              "1    6742\n",
              "7    6265\n",
              "3    6131\n",
              "2    5958\n",
              "9    5949\n",
              "0    5923\n",
              "6    5918\n",
              "8    5851\n",
              "4    5842\n",
              "5    5421\n",
              "Name: 0, dtype: int64"
            ]
          },
          "metadata": {},
          "execution_count": 11
        }
      ]
    },
    {
      "cell_type": "code",
      "source": [
        "#Represent Training & Testing samples suitable for #tensorflow backend\n",
        "x_train=xtrain.reshape(xtrain.shape[0],784).astype('float32')\n",
        "x_test=xtest.reshape(xtest.shape[0],784).astype('float32')\n"
      ],
      "metadata": {
        "id": "oAXbR_cJg0n7"
      },
      "execution_count": 12,
      "outputs": []
    },
    {
      "cell_type": "code",
      "source": [
        "x_test.shape"
      ],
      "metadata": {
        "colab": {
          "base_uri": "https://localhost:8080/"
        },
        "id": "kNnqRh3-g3Ew",
        "outputId": "a67ed44a-d493-452a-bf40-c0ee70821478"
      },
      "execution_count": 13,
      "outputs": [
        {
          "output_type": "execute_result",
          "data": {
            "text/plain": [
              "(10000, 784)"
            ]
          },
          "metadata": {},
          "execution_count": 13
        }
      ]
    },
    {
      "cell_type": "code",
      "source": [
        "x_train/=255\n",
        "x_test/=255"
      ],
      "metadata": {
        "id": "f6DEVMMEg41K"
      },
      "execution_count": 35,
      "outputs": []
    },
    {
      "cell_type": "code",
      "source": [
        "from tensorflow import keras\n",
        "\n",
        "y_train = keras.utils.to_categorical(ytrain, 10)\n",
        "y_test = keras.utils.to_categorical(ytest, 10)"
      ],
      "metadata": {
        "id": "5-CxbcBJg7JB"
      },
      "execution_count": 36,
      "outputs": []
    },
    {
      "cell_type": "code",
      "source": [
        "# Initialize the constructor\n",
        "\n",
        "model = Sequential()"
      ],
      "metadata": {
        "id": "8QcUbPH0hVCP"
      },
      "execution_count": 37,
      "outputs": []
    },
    {
      "cell_type": "code",
      "source": [
        "# Define model architecture\n",
        "\n",
        "model.add(Dense(784,activation='relu'))\n",
        "model.add(Dense(100, activation ='relu'))\n",
        "model.add(Dense(10,activation='softmax'))"
      ],
      "metadata": {
        "id": "fpHT676phnZ6"
      },
      "execution_count": 38,
      "outputs": []
    },
    {
      "cell_type": "code",
      "source": [
        "model.compile(loss='categorical_crossentropy',optimizer='adam',metrics=['accuracy'])"
      ],
      "metadata": {
        "id": "miRml6gIhpMN"
      },
      "execution_count": 39,
      "outputs": []
    },
    {
      "cell_type": "code",
      "source": [
        "epochs = 10\n",
        "batch_size = 20000\n",
        "\n",
        "\n",
        "history = model.fit(x_train, y_train, epochs=epochs, batch_size=batch_size, validation_split = .1, verbose=True)\n",
        "loss, accuracy = model.evaluate(x_test, y_test, verbose=False)"
      ],
      "metadata": {
        "colab": {
          "base_uri": "https://localhost:8080/"
        },
        "id": "kB4A-YwChsh7",
        "outputId": "ca085dfc-80ef-41d5-ff59-7938b2e0f518"
      },
      "execution_count": 40,
      "outputs": [
        {
          "output_type": "stream",
          "name": "stdout",
          "text": [
            "Epoch 1/10\n",
            "3/3 [==============================] - 5s 1s/step - loss: 2.3010 - accuracy: 0.0998 - val_loss: 2.2972 - val_accuracy: 0.1670\n",
            "Epoch 2/10\n",
            "3/3 [==============================] - 4s 1s/step - loss: 2.2957 - accuracy: 0.2041 - val_loss: 2.2909 - val_accuracy: 0.3293\n",
            "Epoch 3/10\n",
            "3/3 [==============================] - 3s 1s/step - loss: 2.2892 - accuracy: 0.3561 - val_loss: 2.2831 - val_accuracy: 0.4055\n",
            "Epoch 4/10\n",
            "3/3 [==============================] - 3s 1s/step - loss: 2.2810 - accuracy: 0.4075 - val_loss: 2.2731 - val_accuracy: 0.4368\n",
            "Epoch 5/10\n",
            "3/3 [==============================] - 5s 2s/step - loss: 2.2705 - accuracy: 0.4291 - val_loss: 2.2603 - val_accuracy: 0.4558\n",
            "Epoch 6/10\n",
            "3/3 [==============================] - 3s 1s/step - loss: 2.2573 - accuracy: 0.4504 - val_loss: 2.2444 - val_accuracy: 0.4887\n",
            "Epoch 7/10\n",
            "3/3 [==============================] - 3s 1s/step - loss: 2.2409 - accuracy: 0.4812 - val_loss: 2.2248 - val_accuracy: 0.5065\n",
            "Epoch 8/10\n",
            "3/3 [==============================] - 3s 1s/step - loss: 2.2206 - accuracy: 0.4980 - val_loss: 2.2009 - val_accuracy: 0.5060\n",
            "Epoch 9/10\n",
            "3/3 [==============================] - 5s 1s/step - loss: 2.1958 - accuracy: 0.5055 - val_loss: 2.1717 - val_accuracy: 0.5142\n",
            "Epoch 10/10\n",
            "3/3 [==============================] - 3s 998ms/step - loss: 2.1661 - accuracy: 0.5096 - val_loss: 2.1373 - val_accuracy: 0.5153\n"
          ]
        }
      ]
    },
    {
      "cell_type": "code",
      "source": [
        "loss, acc = model.evaluate(x_test, y_test, verbose=0)\n",
        "print('Accuracy: %.3f'  % acc)\n",
        "print('Loss: %.3f' % loss)"
      ],
      "metadata": {
        "colab": {
          "base_uri": "https://localhost:8080/"
        },
        "id": "P3BqST-Phw32",
        "outputId": "caa692b8-79ac-4210-b4c3-48394fd17582"
      },
      "execution_count": 41,
      "outputs": [
        {
          "output_type": "stream",
          "name": "stdout",
          "text": [
            "Accuracy: 0.517\n",
            "Loss: 2.138\n"
          ]
        }
      ]
    },
    {
      "cell_type": "code",
      "source": [
        "y_predict = model.predict(x_test)"
      ],
      "metadata": {
        "colab": {
          "base_uri": "https://localhost:8080/"
        },
        "id": "lqbAgyvBjzSF",
        "outputId": "d34c89e8-b0a0-48be-eddd-d17039365d67"
      },
      "execution_count": 44,
      "outputs": [
        {
          "output_type": "stream",
          "name": "stdout",
          "text": [
            "313/313 [==============================] - 1s 4ms/step\n"
          ]
        }
      ]
    },
    {
      "cell_type": "code",
      "source": [
        "y_predict[0]"
      ],
      "metadata": {
        "colab": {
          "base_uri": "https://localhost:8080/"
        },
        "id": "WifMI8CYj1rS",
        "outputId": "c0c04e18-20f7-46e3-e1ba-b9ee4c85d54e"
      },
      "execution_count": 45,
      "outputs": [
        {
          "output_type": "execute_result",
          "data": {
            "text/plain": [
              "array([0.08717367, 0.09933693, 0.08827816, 0.09495255, 0.10254391,\n",
              "       0.07977089, 0.08470328, 0.1380719 , 0.0912276 , 0.13394125],\n",
              "      dtype=float32)"
            ]
          },
          "metadata": {},
          "execution_count": 45
        }
      ]
    },
    {
      "cell_type": "code",
      "source": [
        "np.argmax(y_predict[0])"
      ],
      "metadata": {
        "colab": {
          "base_uri": "https://localhost:8080/"
        },
        "id": "eYjk7Wdsj320",
        "outputId": "5bd6b740-7d57-49e0-8094-063dfb5906af"
      },
      "execution_count": 46,
      "outputs": [
        {
          "output_type": "execute_result",
          "data": {
            "text/plain": [
              "7"
            ]
          },
          "metadata": {},
          "execution_count": 46
        }
      ]
    },
    {
      "cell_type": "code",
      "source": [
        "y_pred = []\n",
        "for val in y_predict:\n",
        "    y_pred.append(np.argmax(val))\n",
        "#print(y_pred)\n",
        "#convert 0 1 to 1 and 1 0 as 0\n",
        "cm = metrics.confusion_matrix(ytest,y_pred)\n",
        "print(cm)"
      ],
      "metadata": {
        "colab": {
          "base_uri": "https://localhost:8080/"
        },
        "id": "hIAIU4SJj5ye",
        "outputId": "da360ab6-3b7c-45df-e939-5669f80ce16b"
      },
      "execution_count": 47,
      "outputs": [
        {
          "output_type": "stream",
          "name": "stdout",
          "text": [
            "[[ 898    4    1    0    0    0   18    0    0   59]\n",
            " [   0 1118    4    0    0    0    2    0    0   11]\n",
            " [  58  142  713    0    0    0   15   13    7   84]\n",
            " [ 123  271  145  217    0    0    6    5   21  222]\n",
            " [   9   20    1    0    0    0    9    1    0  942]\n",
            " [ 202  176    6   43    0    0   24    0    3  438]\n",
            " [  38   66   16    0    0    0  748    0    0   90]\n",
            " [   1   68    7    0    0    0    0  411    0  541]\n",
            " [  80  234   68    8    0    0    6    0   99  479]\n",
            " [  13   25    1    0    0    0    2    5    0  963]]\n"
          ]
        }
      ]
    },
    {
      "cell_type": "code",
      "source": [
        "cr=metrics.classification_report(ytest,y_pred)\n",
        "print(cr)"
      ],
      "metadata": {
        "colab": {
          "base_uri": "https://localhost:8080/"
        },
        "id": "EB734dqVj7nF",
        "outputId": "67c985b0-d57a-41ed-9cb5-7fff9197fecd"
      },
      "execution_count": 48,
      "outputs": [
        {
          "output_type": "stream",
          "name": "stdout",
          "text": [
            "              precision    recall  f1-score   support\n",
            "\n",
            "           0       0.63      0.92      0.75       980\n",
            "           1       0.53      0.99      0.69      1135\n",
            "           2       0.74      0.69      0.72      1032\n",
            "           3       0.81      0.21      0.34      1010\n",
            "           4       0.00      0.00      0.00       982\n",
            "           5       0.00      0.00      0.00       892\n",
            "           6       0.90      0.78      0.84       958\n",
            "           7       0.94      0.40      0.56      1028\n",
            "           8       0.76      0.10      0.18       974\n",
            "           9       0.25      0.95      0.40      1009\n",
            "\n",
            "    accuracy                           0.52     10000\n",
            "   macro avg       0.56      0.50      0.45     10000\n",
            "weighted avg       0.56      0.52      0.45     10000\n",
            "\n"
          ]
        },
        {
          "output_type": "stream",
          "name": "stderr",
          "text": [
            "/usr/local/lib/python3.10/dist-packages/sklearn/metrics/_classification.py:1344: UndefinedMetricWarning: Precision and F-score are ill-defined and being set to 0.0 in labels with no predicted samples. Use `zero_division` parameter to control this behavior.\n",
            "  _warn_prf(average, modifier, msg_start, len(result))\n",
            "/usr/local/lib/python3.10/dist-packages/sklearn/metrics/_classification.py:1344: UndefinedMetricWarning: Precision and F-score are ill-defined and being set to 0.0 in labels with no predicted samples. Use `zero_division` parameter to control this behavior.\n",
            "  _warn_prf(average, modifier, msg_start, len(result))\n",
            "/usr/local/lib/python3.10/dist-packages/sklearn/metrics/_classification.py:1344: UndefinedMetricWarning: Precision and F-score are ill-defined and being set to 0.0 in labels with no predicted samples. Use `zero_division` parameter to control this behavior.\n",
            "  _warn_prf(average, modifier, msg_start, len(result))\n"
          ]
        }
      ]
    },
    {
      "cell_type": "code",
      "source": [
        "print(history.history['val_accuracy'])\n",
        "\n",
        "print(history.history['accuracy'])\n",
        "\n",
        "ta = pd.DataFrame(history.history['accuracy'])\n",
        "va = pd.DataFrame(history.history['val_accuracy'])\n",
        "\n",
        "tva = pd.concat([ta, va], axis= 1)\n",
        "\n",
        "tva.boxplot()"
      ],
      "metadata": {
        "colab": {
          "base_uri": "https://localhost:8080/",
          "height": 502
        },
        "id": "Qz51F8b8j90o",
        "outputId": "a8302e94-d50c-4a34-b064-39363f2ebb49"
      },
      "execution_count": 49,
      "outputs": [
        {
          "output_type": "stream",
          "name": "stdout",
          "text": [
            "[0.16699999570846558, 0.3293333351612091, 0.40549999475479126, 0.43683332204818726, 0.4558333456516266, 0.4886666536331177, 0.5065000057220459, 0.5059999823570251, 0.5141666531562805, 0.515333354473114]\n",
            "[0.09975925832986832, 0.20407406985759735, 0.3560926020145416, 0.40748149156570435, 0.4291481375694275, 0.45044443011283875, 0.48124074935913086, 0.49799999594688416, 0.505481481552124, 0.5096111297607422]\n"
          ]
        },
        {
          "output_type": "execute_result",
          "data": {
            "text/plain": [
              "<Axes: >"
            ]
          },
          "metadata": {},
          "execution_count": 49
        },
        {
          "output_type": "display_data",
          "data": {
            "text/plain": [
              "<Figure size 640x480 with 1 Axes>"
            ],
            "image/png": "[encoded data removed]"
          },
          "metadata": {}
        }
      ]
    },
    {
      "cell_type": "code",
      "source": [],
      "metadata": {
        "id": "1Xs6ID2LkMmT"
      },
      "execution_count": null,
      "outputs": []
    }
  ]
}